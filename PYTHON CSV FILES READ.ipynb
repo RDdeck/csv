{
 "cells": [
  {
   "cell_type": "code",
   "execution_count": 1,
   "id": "e5b4ab08",
   "metadata": {},
   "outputs": [
    {
     "name": "stdout",
     "output_type": "stream",
     "text": [
      "Defaulting to user installation because normal site-packages is not writeable\n",
      "Note: you may need to restart the kernel to use updated packages.\n"
     ]
    },
    {
     "name": "stderr",
     "output_type": "stream",
     "text": [
      "ERROR: Could not find a version that satisfies the requirement csv (from versions: none)\n",
      "ERROR: No matching distribution found for csv\n"
     ]
    }
   ],
   "source": [
    "pip install csv\n"
   ]
  },
  {
   "cell_type": "code",
   "execution_count": null,
   "id": "eb005a4b",
   "metadata": {},
   "outputs": [],
   "source": [
    "import os\n",
    "import csv\n",
    "\n",
    "# Specify the folder path where your CSV files are located\n",
    "folder_path = '/path/to/your/folder/'\n",
    "\n",
    "# Function to read and print records from a CSV file along with its filename\n",
    "def read_csv_files_in_folder(folder_path):\n",
    "    for filename in os.listdir(folder_path):\n",
    "        if filename.endswith('.csv'):\n",
    "            file_path = os.path.join(folder_path, filename)\n",
    "            with open(file_path, 'r') as csv_file:\n",
    "                csv_reader = csv.reader(csv_file)\n",
    "                print(f\"Records in {filename}:\")\n",
    "                for row in csv_reader:\n",
    "                    print(row)\n",
    "\n",
    "# Call the function to read and print records from all CSV files in the folder\n",
    "read_csv_files_in_folder(folder_path)\n"
   ]
  },
  {
   "cell_type": "code",
   "execution_count": null,
   "id": "fe50c985",
   "metadata": {},
   "outputs": [],
   "source": []
  },
  {
   "cell_type": "code",
   "execution_count": null,
   "id": "f0055ccd",
   "metadata": {},
   "outputs": [],
   "source": [
    "import os\n",
    "import pandas as pd\n",
    "\n",
    "# Define the folder path containing CSV files\n",
    "folder_path = \"/path/to/your/folder\"\n",
    "\n",
    "# List all files in the folder\n",
    "file_list = os.listdir(folder_path)\n",
    "\n",
    "# Loop through the files and process CSV files\n",
    "for filename in file_list:\n",
    "    if filename.endswith('.csv'):\n",
    "        file_path = os.path.join(folder_path, filename)\n",
    "        \n",
    "        # Read CSV file using pandas\n",
    "        df = pd.read_csv(file_path)\n",
    "        \n",
    "        # Print file name\n",
    "        print(f\"File Name: {filename}\")\n",
    "        \n",
    "        # Print records in the CSV file\n",
    "        print(df)\n",
    "        \n",
    "        # Optionally, you can iterate through rows if you want to print row-wise\n",
    "        # for index, row in df.iterrows():\n",
    "        #     print(row)\n",
    "        \n",
    "        print(\"=\" * 30)  # Separator between files\n"
   ]
  },
  {
   "cell_type": "code",
   "execution_count": null,
   "id": "89121b7e",
   "metadata": {},
   "outputs": [],
   "source": []
  },
  {
   "cell_type": "markdown",
   "id": "de36dab3",
   "metadata": {},
   "source": [
    "to read txt"
   ]
  },
  {
   "cell_type": "code",
   "execution_count": null,
   "id": "930ca563",
   "metadata": {},
   "outputs": [],
   "source": [
    "import os\n",
    "\n",
    "# Define the folder path containing the text files\n",
    "folder_path = \"/path/to/your/folder\"\n",
    "\n",
    "# Define the name of the text file you want to read\n",
    "filename_to_read = \"example.txt\"\n",
    "\n",
    "# Construct the full path to the text file\n",
    "file_path = os.path.join(folder_path, filename_to_read)\n",
    "\n",
    "# Check if the file exists before attempting to read\n",
    "if os.path.exists(file_path):\n",
    "    # Read the text file\n",
    "    with open(file_path, 'r') as file:\n",
    "        content = file.read()\n",
    "        \n",
    "    # Print the content of the text file\n",
    "    print(f\"Content of {filename_to_read}:\")\n",
    "    print(content)\n",
    "else:\n",
    "    print(f\"{filename_to_read} does not exist in the folder.\")\n"
   ]
  },
  {
   "cell_type": "code",
   "execution_count": null,
   "id": "96cdcc37",
   "metadata": {},
   "outputs": [],
   "source": []
  },
  {
   "cell_type": "markdown",
   "id": "2b1424d8",
   "metadata": {},
   "source": [
    "3 folders,,input txtfiel,input csv files,,output csv files with branch name"
   ]
  },
  {
   "cell_type": "code",
   "execution_count": null,
   "id": "fd59df51",
   "metadata": {},
   "outputs": [],
   "source": [
    "import os\n",
    "\n",
    "# Define paths for input folder (CSV files), input TXT file, and output folder\n",
    "csv_folder_path = \"/path/to/csv/folder\"\n",
    "txt_file_path = \"/path/to/input.txt\"\n",
    "output_folder_path = \"/path/to/output/folder\"\n",
    "\n",
    "# Read the content of the TXT file\n",
    "with open(txt_file_path, 'r') as txt_file:\n",
    "    txt_lines = txt_file.readlines()\n",
    "\n",
    "# List all CSV files in the CSV folder\n",
    "csv_file_list = [filename for filename in os.listdir(csv_folder_path) if filename.endswith('.csv')]\n",
    "\n",
    "# Iterate through CSV files\n",
    "for csv_filename in csv_file_list:\n",
    "    csv_file_path = os.path.join(csv_folder_path, csv_filename)\n",
    "    \n",
    "    # Read the content of the CSV file\n",
    "    with open(csv_file_path, 'r') as csv_file:\n",
    "        csv_content = csv_file.read()\n",
    "    \n",
    "    # Append each line from the TXT file to the CSV content\n",
    "    csv_content += '\\n'.join(txt_lines)\n",
    "    \n",
    "    # Save the modified content to a new CSV file in the output folder\n",
    "    output_csv_file_path = os.path.join(output_folder_path, \"combined_\" + csv_filename)\n",
    "    with open(output_csv_file_path, 'w') as output_csv_file:\n",
    "        output_csv_file.write(csv_content)\n"
   ]
  }
 ],
 "metadata": {
  "kernelspec": {
   "display_name": "Python 3 (ipykernel)",
   "language": "python",
   "name": "python3"
  },
  "language_info": {
   "codemirror_mode": {
    "name": "ipython",
    "version": 3
   },
   "file_extension": ".py",
   "mimetype": "text/x-python",
   "name": "python",
   "nbconvert_exporter": "python",
   "pygments_lexer": "ipython3",
   "version": "3.10.9"
  }
 },
 "nbformat": 4,
 "nbformat_minor": 5
}
